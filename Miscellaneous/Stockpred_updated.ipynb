{
  "cells": [
    {
      "cell_type": "markdown",
      "metadata": {
        "id": "view-in-github",
        "colab_type": "text"
      },
      "source": [
        "<a href=\"https://colab.research.google.com/github/Prakartt/Customer-Segmentation-and-Stock-market-prediction-for-portfolio-generation-/blob/main/Stockpred_updated.ipynb\" target=\"_parent\"><img src=\"https://colab.research.google.com/assets/colab-badge.svg\" alt=\"Open In Colab\"/></a>"
      ]
    },
    {
      "cell_type": "markdown",
      "metadata": {
        "id": "pIh5pxtv7y20"
      },
      "source": [
        "\n",
        "\n",
        "<h2>PART 1. Data Pre-processing</h2>"
      ]
    },
    {
      "cell_type": "code",
      "execution_count": 3,
      "metadata": {
        "id": "mB_2ZOA97y25"
      },
      "outputs": [],
      "source": [
        "# Import modules and packages\n",
        "import numpy as np\n",
        "import pandas as pd\n",
        "import matplotlib.pyplot as plt\n",
        "import datetime as dt\n",
        "from datetime import datetime\n",
        "\n",
        "from keras.callbacks import EarlyStopping, ReduceLROnPlateau, ModelCheckpoint, TensorBoard\n",
        "\n",
        "%matplotlib inline"
      ]
    },
    {
      "cell_type": "markdown",
      "metadata": {
        "id": "v3UK0lK17y27"
      },
      "source": [
        "<h3>Step #1. Read data</h3>"
      ]
    },
    {
      "cell_type": "code",
      "execution_count": 4,
      "metadata": {
        "colab": {
          "base_uri": "https://localhost:8080/"
        },
        "id": "xX0kfLkt7y27",
        "outputId": "84d723f3-1271-4430-b632-1be0b4abf907"
      },
      "outputs": [
        {
          "output_type": "stream",
          "name": "stdout",
          "text": [
            "Training set shape == (4494, 7)\n",
            "All timestamps == 4494\n",
            "Featured selected: ['Close', 'Adj Close', 'Volume']\n"
          ]
        }
      ],
      "source": [
        "# Importing Training Set\n",
        "dataset_train = pd.read_csv('/content/GOOG.csv')\n",
        "df=dataset_train\n",
        "# dataset_train = np.expand_dims(np.arange(4006,7), axis=1)\n",
        "\n",
        "# Select features (columns) to be involved intro training and predictions\n",
        "cols = list(dataset_train)[4:]\n",
        "\n",
        "# Extract dates (will be used in visualization)\n",
        "datelist_train = list(dataset_train['Date'])\n",
        "datelist_train = [dt.datetime.strptime(date, '%m/%d/%Y').date() for date in datelist_train]\n",
        "\n",
        "print('Training set shape == {}'.format(dataset_train.shape))\n",
        "print('All timestamps == {}'.format(len(datelist_train)))\n",
        "print('Featured selected: {}'.format(cols))\n"
      ]
    },
    {
      "cell_type": "markdown",
      "metadata": {
        "id": "wp8IuX9B7y28"
      },
      "source": [
        "<h3>Step #2. Data pre-processing</h3>\n",
        "<p>\n",
        "Removing all commas and convert data to matrix shape format.\n",
        "</p>"
      ]
    },
    {
      "cell_type": "code",
      "execution_count": 5,
      "metadata": {
        "colab": {
          "base_uri": "https://localhost:8080/"
        },
        "id": "-MdJ46SF7y28",
        "outputId": "c305af99-a2b0-45f8-a5c5-91a33d3f4810"
      },
      "outputs": [
        {
          "output_type": "stream",
          "name": "stdout",
          "text": [
            "Shape of training set == (4494, 3).\n"
          ]
        },
        {
          "output_type": "execute_result",
          "data": {
            "text/plain": [
              "array([[4.99826550e+01, 4.99826550e+01, 4.48713610e+07],\n",
              "       [5.39527700e+01, 5.39527700e+01, 2.29428740e+07],\n",
              "       [5.44957350e+01, 5.44957350e+01, 1.83428970e+07],\n",
              "       ...,\n",
              "       [2.24067993e+03, 2.24067993e+03, 1.19610000e+06],\n",
              "       [2.25368994e+03, 2.25368994e+03, 1.23550000e+06],\n",
              "       [2.37076001e+03, 2.37076001e+03, 1.95470000e+06]])"
            ]
          },
          "metadata": {},
          "execution_count": 5
        }
      ],
      "source": [
        "dataset_train = dataset_train[cols].astype(str)\n",
        "for i in cols:\n",
        "    for j in range(0, len(dataset_train)):\n",
        "        dataset_train[i][j] = dataset_train[i][j].replace(',', '')\n",
        "\n",
        "dataset_train = dataset_train.astype(float)\n",
        "\n",
        "# Using multiple features (predictors)\n",
        "training_set = dataset_train.to_numpy()\n",
        "\n",
        "print('Shape of training set == {}.'.format(training_set.shape))\n",
        "training_set"
      ]
    },
    {
      "cell_type": "code",
      "execution_count": 6,
      "metadata": {
        "colab": {
          "base_uri": "https://localhost:8080/"
        },
        "id": "kRKHXEtB7y29",
        "outputId": "482ee5c3-80ad-430d-8b72-c85101af5007"
      },
      "outputs": [
        {
          "output_type": "execute_result",
          "data": {
            "text/plain": [
              "array([[-0.98208107],\n",
              "       [-0.97620821],\n",
              "       [-0.97540502],\n",
              "       ...,\n",
              "       [ 2.25854308],\n",
              "       [ 2.27778834],\n",
              "       [ 2.45096612]])"
            ]
          },
          "metadata": {},
          "execution_count": 6
        }
      ],
      "source": [
        "# Feature Scaling\n",
        "from sklearn.preprocessing import StandardScaler\n",
        "\n",
        "sc = StandardScaler()\n",
        "training_set_scaled = sc.fit_transform(training_set)\n",
        "\n",
        "sc_predict = StandardScaler()\n",
        "sc_predict.fit_transform(training_set[:, 0:1])"
      ]
    },
    {
      "cell_type": "code",
      "execution_count": null,
      "metadata": {
        "colab": {
          "base_uri": "https://localhost:8080/"
        },
        "id": "Uof8Ye2tRhVb",
        "outputId": "4ff025cc-9257-47f6-8b27-41638c7b52e3"
      },
      "outputs": [
        {
          "output_type": "stream",
          "name": "stdout",
          "text": [
            "4494\n"
          ]
        }
      ],
      "source": [
        "print(len(training_set_scaled))"
      ]
    },
    {
      "cell_type": "code",
      "execution_count": 7,
      "metadata": {
        "colab": {
          "base_uri": "https://localhost:8080/"
        },
        "id": "fB_E4IQv7y2-",
        "outputId": "37487428-a0c4-4aa5-8552-4ebc82b072e4"
      },
      "outputs": [
        {
          "output_type": "stream",
          "name": "stdout",
          "text": [
            "X_train shape == (2610, 1825, 2).\n",
            "y_train shape == (2610, 60).\n"
          ]
        }
      ],
      "source": [
        "# Creating a data structure with 90 timestamps and 1 output\n",
        "X_train = []\n",
        "y_train = []\n",
        "\n",
        "n_future = 60   # Number of days we want to predict into the future\n",
        "n_past = 1825    # Number of past days we want to use to predict the future\n",
        "\n",
        "for i in range(n_past, len(training_set_scaled) - n_future +1):\n",
        "    X_train.append(training_set_scaled[i - n_past:i, 0:dataset_train.shape[1] - 1])\n",
        "    y_train.append(training_set_scaled[i:i+n_future,0 ])\n",
        "#i:i+n_future,0  or i + n_future - 1:i + n_future, 0\n",
        "# X_train = np.expand_dims(np.arange(1452, 1825, 4), axis=1)\n",
        "# Y_train = np.expand_dims(np.arange(1452, 1), axis=1)\n",
        "\n",
        "X_train, y_train = np.array(X_train), np.array(y_train)\n",
        "\n",
        "print('X_train shape == {}.'.format(X_train.shape))\n",
        "print('y_train shape == {}.'.format(y_train.shape))"
      ]
    },
    {
      "cell_type": "markdown",
      "metadata": {
        "id": "uHy2B-Rq7y2-"
      },
      "source": [
        "<h2>PART 2. Create a model. Training</h2>"
      ]
    },
    {
      "cell_type": "markdown",
      "metadata": {
        "id": "E9mc---d7y2_"
      },
      "source": [
        "<h3>Step #3. Building the LSTM based Neural Network</h3>"
      ]
    },
    {
      "cell_type": "code",
      "execution_count": 8,
      "metadata": {
        "id": "1haH1m-o7y2_"
      },
      "outputs": [],
      "source": [
        "# Import Libraries and packages from Keras\n",
        "from tensorflow.keras.models import Sequential\n",
        "from tensorflow.keras.layers import Dense\n",
        "from tensorflow.keras.layers import LSTM\n",
        "from tensorflow.keras.layers import Dropout\n",
        "from tensorflow.keras.optimizers import Adam\n"
      ]
    },
    {
      "cell_type": "code",
      "execution_count": 9,
      "metadata": {
        "id": "FcrSNqVI7y2_"
      },
      "outputs": [],
      "source": [
        "# Initializing the Neural Network based on LSTM\n",
        "model = Sequential()\n",
        "\n",
        "# Adding 1st LSTM layer\n",
        "model.add(LSTM(units=128, return_sequences=True, input_shape=(n_past, dataset_train.shape[1]-1)))\n",
        "\n",
        "# Adding 2nd LSTM layer\n",
        "model.add(LSTM(units=64, return_sequences=True))\n",
        "#Adding 3rd LSTM layer\n",
        "model.add(LSTM(units=10, return_sequences=False))\n",
        "# Adding Dropout\n",
        "model.add(Dropout(0.20))\n",
        "\n",
        "# Output layer\n",
        "model.add(Dense(units=1, activation='linear'))\n",
        "\n",
        "# Compiling the Neural Network\n",
        "model.compile(optimizer = Adam(learning_rate=0.03), loss='mean_squared_error')"
      ]
    },
    {
      "cell_type": "markdown",
      "metadata": {
        "id": "Pgkx5ac_7y3A"
      },
      "source": [
        "<h3>Step #4. Start training</h3>"
      ]
    },
    {
      "cell_type": "code",
      "execution_count": 12,
      "metadata": {
        "colab": {
          "base_uri": "https://localhost:8080/"
        },
        "id": "fsZalj927y3A",
        "outputId": "c7a0d741-78ca-4af0-e236-898a7a7de47d"
      },
      "outputs": [
        {
          "output_type": "stream",
          "name": "stdout",
          "text": [
            "Epoch 1/50\n",
            "9/9 [==============================] - ETA: 0s - loss: 0.2200 \n",
            "Epoch 1: val_loss improved from inf to 5.02522, saving model to weights.h5\n",
            "9/9 [==============================] - 150s 17s/step - loss: 0.2200 - val_loss: 5.0252 - lr: 0.0300\n",
            "Epoch 2/50\n",
            "9/9 [==============================] - ETA: 0s - loss: 0.2208 \n",
            "Epoch 2: val_loss did not improve from 5.02522\n",
            "9/9 [==============================] - 146s 16s/step - loss: 0.2208 - val_loss: 5.2899 - lr: 0.0300\n",
            "Epoch 3/50\n",
            "9/9 [==============================] - ETA: 0s - loss: 0.2193 \n",
            "Epoch 3: val_loss did not improve from 5.02522\n",
            "9/9 [==============================] - 156s 17s/step - loss: 0.2193 - val_loss: 5.1910 - lr: 0.0300\n",
            "Epoch 4/50\n",
            "9/9 [==============================] - ETA: 0s - loss: 0.2191 \n",
            "Epoch 4: val_loss did not improve from 5.02522\n",
            "9/9 [==============================] - 149s 17s/step - loss: 0.2191 - val_loss: 5.2477 - lr: 0.0300\n",
            "Epoch 5/50\n",
            "9/9 [==============================] - ETA: 0s - loss: 0.2188 \n",
            "Epoch 5: val_loss did not improve from 5.02522\n",
            "9/9 [==============================] - 149s 17s/step - loss: 0.2188 - val_loss: 5.1824 - lr: 0.0300\n",
            "Epoch 6/50\n",
            "9/9 [==============================] - ETA: 0s - loss: 0.2193 \n",
            "Epoch 6: val_loss did not improve from 5.02522\n",
            "9/9 [==============================] - 150s 17s/step - loss: 0.2193 - val_loss: 5.1663 - lr: 0.0300\n",
            "Epoch 7/50\n",
            "9/9 [==============================] - ETA: 0s - loss: 0.2188 \n",
            "Epoch 7: val_loss did not improve from 5.02522\n",
            "9/9 [==============================] - 159s 18s/step - loss: 0.2188 - val_loss: 5.2442 - lr: 0.0300\n",
            "Epoch 8/50\n",
            "9/9 [==============================] - ETA: 0s - loss: 0.2184 \n",
            "Epoch 8: val_loss did not improve from 5.02522\n",
            "9/9 [==============================] - 141s 16s/step - loss: 0.2184 - val_loss: 5.1723 - lr: 0.0300\n",
            "Epoch 9/50\n",
            "9/9 [==============================] - ETA: 0s - loss: 0.2195 \n",
            "Epoch 9: val_loss did not improve from 5.02522\n",
            "9/9 [==============================] - 141s 16s/step - loss: 0.2195 - val_loss: 5.2266 - lr: 0.0300\n",
            "Epoch 10/50\n",
            "9/9 [==============================] - ETA: 0s - loss: 0.2188 \n",
            "Epoch 10: val_loss did not improve from 5.02522\n",
            "9/9 [==============================] - 150s 17s/step - loss: 0.2188 - val_loss: 5.1380 - lr: 0.0300\n",
            "Epoch 11/50\n",
            "9/9 [==============================] - ETA: 0s - loss: 0.2191 \n",
            "Epoch 11: ReduceLROnPlateau reducing learning rate to 0.014999999664723873.\n",
            "\n",
            "Epoch 11: val_loss did not improve from 5.02522\n",
            "9/9 [==============================] - 146s 16s/step - loss: 0.2191 - val_loss: 5.2100 - lr: 0.0300\n",
            "Epoch 11: early stopping\n",
            "CPU times: user 43min 16s, sys: 3min 45s, total: 47min 1s\n",
            "Wall time: 27min 18s\n"
          ]
        }
      ],
      "source": [
        "%%time\n",
        "es = EarlyStopping(monitor='val_loss', min_delta=1e-10, patience=10, verbose=1)\n",
        "rlr = ReduceLROnPlateau(monitor='val_loss', factor=0.5, patience=10, verbose=1)\n",
        "mcp = ModelCheckpoint(filepath='weights.h5', monitor='val_loss', verbose=1, save_best_only=True, save_weights_only=True)\n",
        "\n",
        "tb = TensorBoard('logs')\n",
        "\n",
        "history = model.fit(X_train, y_train, shuffle=True, epochs=50, callbacks=[es, rlr, mcp, tb], validation_split=0.2, verbose=1, batch_size=256)"
      ]
    },
    {
      "cell_type": "markdown",
      "metadata": {
        "id": "HFq6r5TB7y3A"
      },
      "source": [
        "<p>\n",
        "Notes:<br>\n",
        "<ul>\n",
        "<li><b>EarlyStopping</b> - Stop training when a monitored metric has stopped improving.</li>\n",
        "<li><code>monitor</code> - quantity to be monitored.</li>\n",
        "<li><code>min_delta</code> - minimum change in the monitored quantity to qualify as an improvement, i.e. an absolute change of less than <code>min_delta</code>, will count as no improvement.</li>\n",
        "<li><code>patience</code> - number of epochs with no improvement after which training will be stopped.</li>\n",
        "</ul>\n",
        "\n",
        "<ul>\n",
        "<li><b>ReduceLROnPlateau</b> - Reduce learning rate when a metric has stopped improving.</li>\n",
        "<li><code>factor</code> - factor by which the learning rate will be reduced. <code>new_lr = lr * factor</code>.</li>\n",
        "</ul>\n",
        "</p>\n",
        "\n",
        "<hr>\n",
        "\n",
        "<p>\n",
        "The last date for our training set is <code>30-Dec-2016</code>.<br>\n",
        "</p>\n",
        "\n",
        "<p>\n",
        "We will perform predictions for the next <b>20</b> days, since <b>2017-01-01</b> to <b>2017-01-20</b>.\n",
        "</p>"
      ]
    },
    {
      "cell_type": "markdown",
      "metadata": {
        "id": "fU8zFSwu7y3B"
      },
      "source": [
        "<h2>PART 3. Make future predictions</h2>"
      ]
    },
    {
      "cell_type": "code",
      "execution_count": 13,
      "metadata": {
        "id": "rcWh2-cB7y3B"
      },
      "outputs": [],
      "source": [
        "# Generate list of sequence of days for predictions\n",
        "datelist_future = pd.date_range(datelist_train[-1], periods=n_future, freq='1d').tolist()\n",
        "\n",
        "'''\n",
        "Remeber, we have datelist_train from begining.\n",
        "'''\n",
        "\n",
        "# Convert Pandas Timestamp to Datetime object (for transformation) --> FUTURE\n",
        "datelist_future_ = []\n",
        "for this_timestamp in datelist_future:\n",
        "    datelist_future_.append(this_timestamp.date())"
      ]
    },
    {
      "cell_type": "markdown",
      "metadata": {
        "id": "0fE0FeQg7y3B"
      },
      "source": [
        "<h3>Step #5. Make predictions for future dates</h3>"
      ]
    },
    {
      "cell_type": "code",
      "execution_count": 14,
      "metadata": {
        "id": "VQdGb0s0Voc1"
      },
      "outputs": [],
      "source": [
        "model.compile(run_eagerly=True)"
      ]
    },
    {
      "cell_type": "code",
      "execution_count": 15,
      "metadata": {
        "id": "O0pquFgW7y3B"
      },
      "outputs": [],
      "source": [
        "# Perform predictions\n",
        "predictions_future = model.predict(X_train[-n_future:])\n",
        "\n",
        "predictions_train = model.predict(X_train[n_past:])"
      ]
    },
    {
      "cell_type": "code",
      "execution_count": 16,
      "metadata": {
        "colab": {
          "base_uri": "https://localhost:8080/",
          "height": 1000
        },
        "id": "hDalklh_7y3C",
        "outputId": "0779e943-8068-4c26-d67e-3538697320e3"
      },
      "outputs": [
        {
          "output_type": "execute_result",
          "data": {
            "text/plain": [
              "                 Close\n",
              "2016-12-07  759.291565\n",
              "2016-12-08  759.278198\n",
              "2016-12-09  759.156616\n",
              "2016-12-10  759.133606\n",
              "2016-12-11  759.110352\n",
              "2016-12-12  759.129822\n",
              "2016-12-13  759.155334\n",
              "2016-12-14  759.188904\n",
              "2016-12-15  759.152222\n",
              "2016-12-16  759.160767\n",
              "2016-12-17  759.098572\n",
              "2016-12-18  759.077148\n",
              "2016-12-19  759.030823\n",
              "2016-12-20  758.959656\n",
              "2016-12-21  758.948181\n",
              "2016-12-22  758.874939\n",
              "2016-12-23  758.904114\n",
              "2016-12-24  758.900208\n",
              "2016-12-25  758.973755\n",
              "2016-12-26  759.028320\n",
              "2016-12-27  759.081604\n",
              "2016-12-28  759.274658\n",
              "2016-12-29  759.217957\n",
              "2016-12-30  759.231628\n",
              "2016-12-31  759.162170\n",
              "2017-01-01  759.156921\n",
              "2017-01-02  759.190491\n",
              "2017-01-03  759.144226\n",
              "2017-01-04  759.059692\n",
              "2017-01-05  759.063232\n",
              "2017-01-06  759.076233\n",
              "2017-01-07  759.095459\n",
              "2017-01-08  759.007568\n",
              "2017-01-09  758.961975\n",
              "2017-01-10  758.928955\n",
              "2017-01-11  758.885925\n",
              "2017-01-12  758.964600\n",
              "2017-01-13  759.005859\n",
              "2017-01-14  759.024231\n",
              "2017-01-15  759.018921\n",
              "2017-01-16  759.031006\n",
              "2017-01-17  759.025574\n",
              "2017-01-18  758.987122\n",
              "2017-01-19  758.880493\n",
              "2017-01-20  758.873962\n",
              "2017-01-21  758.980164\n",
              "2017-01-22  758.974060\n",
              "2017-01-23  758.941467\n",
              "2017-01-24  758.871277\n",
              "2017-01-25  758.909119\n",
              "2017-01-26  758.980652\n",
              "2017-01-27  759.010071\n",
              "2017-01-28  759.059753\n",
              "2017-01-29  759.066162\n",
              "2017-01-30  759.139160\n",
              "2017-01-31  759.121948\n",
              "2017-02-01  759.174805\n",
              "2017-02-02  759.187500\n",
              "2017-02-03  759.201477\n",
              "2017-02-04  759.228699"
            ],
            "text/html": [
              "\n",
              "  <div id=\"df-44b77bfe-c5c1-494a-9e4b-1bb2bb2a37a3\">\n",
              "    <div class=\"colab-df-container\">\n",
              "      <div>\n",
              "<style scoped>\n",
              "    .dataframe tbody tr th:only-of-type {\n",
              "        vertical-align: middle;\n",
              "    }\n",
              "\n",
              "    .dataframe tbody tr th {\n",
              "        vertical-align: top;\n",
              "    }\n",
              "\n",
              "    .dataframe thead th {\n",
              "        text-align: right;\n",
              "    }\n",
              "</style>\n",
              "<table border=\"1\" class=\"dataframe\">\n",
              "  <thead>\n",
              "    <tr style=\"text-align: right;\">\n",
              "      <th></th>\n",
              "      <th>Close</th>\n",
              "    </tr>\n",
              "  </thead>\n",
              "  <tbody>\n",
              "    <tr>\n",
              "      <th>2016-12-07</th>\n",
              "      <td>759.291565</td>\n",
              "    </tr>\n",
              "    <tr>\n",
              "      <th>2016-12-08</th>\n",
              "      <td>759.278198</td>\n",
              "    </tr>\n",
              "    <tr>\n",
              "      <th>2016-12-09</th>\n",
              "      <td>759.156616</td>\n",
              "    </tr>\n",
              "    <tr>\n",
              "      <th>2016-12-10</th>\n",
              "      <td>759.133606</td>\n",
              "    </tr>\n",
              "    <tr>\n",
              "      <th>2016-12-11</th>\n",
              "      <td>759.110352</td>\n",
              "    </tr>\n",
              "    <tr>\n",
              "      <th>2016-12-12</th>\n",
              "      <td>759.129822</td>\n",
              "    </tr>\n",
              "    <tr>\n",
              "      <th>2016-12-13</th>\n",
              "      <td>759.155334</td>\n",
              "    </tr>\n",
              "    <tr>\n",
              "      <th>2016-12-14</th>\n",
              "      <td>759.188904</td>\n",
              "    </tr>\n",
              "    <tr>\n",
              "      <th>2016-12-15</th>\n",
              "      <td>759.152222</td>\n",
              "    </tr>\n",
              "    <tr>\n",
              "      <th>2016-12-16</th>\n",
              "      <td>759.160767</td>\n",
              "    </tr>\n",
              "    <tr>\n",
              "      <th>2016-12-17</th>\n",
              "      <td>759.098572</td>\n",
              "    </tr>\n",
              "    <tr>\n",
              "      <th>2016-12-18</th>\n",
              "      <td>759.077148</td>\n",
              "    </tr>\n",
              "    <tr>\n",
              "      <th>2016-12-19</th>\n",
              "      <td>759.030823</td>\n",
              "    </tr>\n",
              "    <tr>\n",
              "      <th>2016-12-20</th>\n",
              "      <td>758.959656</td>\n",
              "    </tr>\n",
              "    <tr>\n",
              "      <th>2016-12-21</th>\n",
              "      <td>758.948181</td>\n",
              "    </tr>\n",
              "    <tr>\n",
              "      <th>2016-12-22</th>\n",
              "      <td>758.874939</td>\n",
              "    </tr>\n",
              "    <tr>\n",
              "      <th>2016-12-23</th>\n",
              "      <td>758.904114</td>\n",
              "    </tr>\n",
              "    <tr>\n",
              "      <th>2016-12-24</th>\n",
              "      <td>758.900208</td>\n",
              "    </tr>\n",
              "    <tr>\n",
              "      <th>2016-12-25</th>\n",
              "      <td>758.973755</td>\n",
              "    </tr>\n",
              "    <tr>\n",
              "      <th>2016-12-26</th>\n",
              "      <td>759.028320</td>\n",
              "    </tr>\n",
              "    <tr>\n",
              "      <th>2016-12-27</th>\n",
              "      <td>759.081604</td>\n",
              "    </tr>\n",
              "    <tr>\n",
              "      <th>2016-12-28</th>\n",
              "      <td>759.274658</td>\n",
              "    </tr>\n",
              "    <tr>\n",
              "      <th>2016-12-29</th>\n",
              "      <td>759.217957</td>\n",
              "    </tr>\n",
              "    <tr>\n",
              "      <th>2016-12-30</th>\n",
              "      <td>759.231628</td>\n",
              "    </tr>\n",
              "    <tr>\n",
              "      <th>2016-12-31</th>\n",
              "      <td>759.162170</td>\n",
              "    </tr>\n",
              "    <tr>\n",
              "      <th>2017-01-01</th>\n",
              "      <td>759.156921</td>\n",
              "    </tr>\n",
              "    <tr>\n",
              "      <th>2017-01-02</th>\n",
              "      <td>759.190491</td>\n",
              "    </tr>\n",
              "    <tr>\n",
              "      <th>2017-01-03</th>\n",
              "      <td>759.144226</td>\n",
              "    </tr>\n",
              "    <tr>\n",
              "      <th>2017-01-04</th>\n",
              "      <td>759.059692</td>\n",
              "    </tr>\n",
              "    <tr>\n",
              "      <th>2017-01-05</th>\n",
              "      <td>759.063232</td>\n",
              "    </tr>\n",
              "    <tr>\n",
              "      <th>2017-01-06</th>\n",
              "      <td>759.076233</td>\n",
              "    </tr>\n",
              "    <tr>\n",
              "      <th>2017-01-07</th>\n",
              "      <td>759.095459</td>\n",
              "    </tr>\n",
              "    <tr>\n",
              "      <th>2017-01-08</th>\n",
              "      <td>759.007568</td>\n",
              "    </tr>\n",
              "    <tr>\n",
              "      <th>2017-01-09</th>\n",
              "      <td>758.961975</td>\n",
              "    </tr>\n",
              "    <tr>\n",
              "      <th>2017-01-10</th>\n",
              "      <td>758.928955</td>\n",
              "    </tr>\n",
              "    <tr>\n",
              "      <th>2017-01-11</th>\n",
              "      <td>758.885925</td>\n",
              "    </tr>\n",
              "    <tr>\n",
              "      <th>2017-01-12</th>\n",
              "      <td>758.964600</td>\n",
              "    </tr>\n",
              "    <tr>\n",
              "      <th>2017-01-13</th>\n",
              "      <td>759.005859</td>\n",
              "    </tr>\n",
              "    <tr>\n",
              "      <th>2017-01-14</th>\n",
              "      <td>759.024231</td>\n",
              "    </tr>\n",
              "    <tr>\n",
              "      <th>2017-01-15</th>\n",
              "      <td>759.018921</td>\n",
              "    </tr>\n",
              "    <tr>\n",
              "      <th>2017-01-16</th>\n",
              "      <td>759.031006</td>\n",
              "    </tr>\n",
              "    <tr>\n",
              "      <th>2017-01-17</th>\n",
              "      <td>759.025574</td>\n",
              "    </tr>\n",
              "    <tr>\n",
              "      <th>2017-01-18</th>\n",
              "      <td>758.987122</td>\n",
              "    </tr>\n",
              "    <tr>\n",
              "      <th>2017-01-19</th>\n",
              "      <td>758.880493</td>\n",
              "    </tr>\n",
              "    <tr>\n",
              "      <th>2017-01-20</th>\n",
              "      <td>758.873962</td>\n",
              "    </tr>\n",
              "    <tr>\n",
              "      <th>2017-01-21</th>\n",
              "      <td>758.980164</td>\n",
              "    </tr>\n",
              "    <tr>\n",
              "      <th>2017-01-22</th>\n",
              "      <td>758.974060</td>\n",
              "    </tr>\n",
              "    <tr>\n",
              "      <th>2017-01-23</th>\n",
              "      <td>758.941467</td>\n",
              "    </tr>\n",
              "    <tr>\n",
              "      <th>2017-01-24</th>\n",
              "      <td>758.871277</td>\n",
              "    </tr>\n",
              "    <tr>\n",
              "      <th>2017-01-25</th>\n",
              "      <td>758.909119</td>\n",
              "    </tr>\n",
              "    <tr>\n",
              "      <th>2017-01-26</th>\n",
              "      <td>758.980652</td>\n",
              "    </tr>\n",
              "    <tr>\n",
              "      <th>2017-01-27</th>\n",
              "      <td>759.010071</td>\n",
              "    </tr>\n",
              "    <tr>\n",
              "      <th>2017-01-28</th>\n",
              "      <td>759.059753</td>\n",
              "    </tr>\n",
              "    <tr>\n",
              "      <th>2017-01-29</th>\n",
              "      <td>759.066162</td>\n",
              "    </tr>\n",
              "    <tr>\n",
              "      <th>2017-01-30</th>\n",
              "      <td>759.139160</td>\n",
              "    </tr>\n",
              "    <tr>\n",
              "      <th>2017-01-31</th>\n",
              "      <td>759.121948</td>\n",
              "    </tr>\n",
              "    <tr>\n",
              "      <th>2017-02-01</th>\n",
              "      <td>759.174805</td>\n",
              "    </tr>\n",
              "    <tr>\n",
              "      <th>2017-02-02</th>\n",
              "      <td>759.187500</td>\n",
              "    </tr>\n",
              "    <tr>\n",
              "      <th>2017-02-03</th>\n",
              "      <td>759.201477</td>\n",
              "    </tr>\n",
              "    <tr>\n",
              "      <th>2017-02-04</th>\n",
              "      <td>759.228699</td>\n",
              "    </tr>\n",
              "  </tbody>\n",
              "</table>\n",
              "</div>\n",
              "      <button class=\"colab-df-convert\" onclick=\"convertToInteractive('df-44b77bfe-c5c1-494a-9e4b-1bb2bb2a37a3')\"\n",
              "              title=\"Convert this dataframe to an interactive table.\"\n",
              "              style=\"display:none;\">\n",
              "        \n",
              "  <svg xmlns=\"http://www.w3.org/2000/svg\" height=\"24px\"viewBox=\"0 0 24 24\"\n",
              "       width=\"24px\">\n",
              "    <path d=\"M0 0h24v24H0V0z\" fill=\"none\"/>\n",
              "    <path d=\"M18.56 5.44l.94 2.06.94-2.06 2.06-.94-2.06-.94-.94-2.06-.94 2.06-2.06.94zm-11 1L8.5 8.5l.94-2.06 2.06-.94-2.06-.94L8.5 2.5l-.94 2.06-2.06.94zm10 10l.94 2.06.94-2.06 2.06-.94-2.06-.94-.94-2.06-.94 2.06-2.06.94z\"/><path d=\"M17.41 7.96l-1.37-1.37c-.4-.4-.92-.59-1.43-.59-.52 0-1.04.2-1.43.59L10.3 9.45l-7.72 7.72c-.78.78-.78 2.05 0 2.83L4 21.41c.39.39.9.59 1.41.59.51 0 1.02-.2 1.41-.59l7.78-7.78 2.81-2.81c.8-.78.8-2.07 0-2.86zM5.41 20L4 18.59l7.72-7.72 1.47 1.35L5.41 20z\"/>\n",
              "  </svg>\n",
              "      </button>\n",
              "      \n",
              "  <style>\n",
              "    .colab-df-container {\n",
              "      display:flex;\n",
              "      flex-wrap:wrap;\n",
              "      gap: 12px;\n",
              "    }\n",
              "\n",
              "    .colab-df-convert {\n",
              "      background-color: #E8F0FE;\n",
              "      border: none;\n",
              "      border-radius: 50%;\n",
              "      cursor: pointer;\n",
              "      display: none;\n",
              "      fill: #1967D2;\n",
              "      height: 32px;\n",
              "      padding: 0 0 0 0;\n",
              "      width: 32px;\n",
              "    }\n",
              "\n",
              "    .colab-df-convert:hover {\n",
              "      background-color: #E2EBFA;\n",
              "      box-shadow: 0px 1px 2px rgba(60, 64, 67, 0.3), 0px 1px 3px 1px rgba(60, 64, 67, 0.15);\n",
              "      fill: #174EA6;\n",
              "    }\n",
              "\n",
              "    [theme=dark] .colab-df-convert {\n",
              "      background-color: #3B4455;\n",
              "      fill: #D2E3FC;\n",
              "    }\n",
              "\n",
              "    [theme=dark] .colab-df-convert:hover {\n",
              "      background-color: #434B5C;\n",
              "      box-shadow: 0px 1px 3px 1px rgba(0, 0, 0, 0.15);\n",
              "      filter: drop-shadow(0px 1px 2px rgba(0, 0, 0, 0.3));\n",
              "      fill: #FFFFFF;\n",
              "    }\n",
              "  </style>\n",
              "\n",
              "      <script>\n",
              "        const buttonEl =\n",
              "          document.querySelector('#df-44b77bfe-c5c1-494a-9e4b-1bb2bb2a37a3 button.colab-df-convert');\n",
              "        buttonEl.style.display =\n",
              "          google.colab.kernel.accessAllowed ? 'block' : 'none';\n",
              "\n",
              "        async function convertToInteractive(key) {\n",
              "          const element = document.querySelector('#df-44b77bfe-c5c1-494a-9e4b-1bb2bb2a37a3');\n",
              "          const dataTable =\n",
              "            await google.colab.kernel.invokeFunction('convertToInteractive',\n",
              "                                                     [key], {});\n",
              "          if (!dataTable) return;\n",
              "\n",
              "          const docLinkHtml = 'Like what you see? Visit the ' +\n",
              "            '<a target=\"_blank\" href=https://colab.research.google.com/notebooks/data_table.ipynb>data table notebook</a>'\n",
              "            + ' to learn more about interactive tables.';\n",
              "          element.innerHTML = '';\n",
              "          dataTable['output_type'] = 'display_data';\n",
              "          await google.colab.output.renderOutput(dataTable, element);\n",
              "          const docLink = document.createElement('div');\n",
              "          docLink.innerHTML = docLinkHtml;\n",
              "          element.appendChild(docLink);\n",
              "        }\n",
              "      </script>\n",
              "    </div>\n",
              "  </div>\n",
              "  "
            ]
          },
          "metadata": {},
          "execution_count": 16
        }
      ],
      "source": [
        "# Inverse the predictions to original measurements\n",
        "\n",
        "# ---> Special function: convert <datetime.date> to <Timestamp>\n",
        "def datetime_to_timestamp(x):\n",
        "    '''\n",
        "        x : a given datetime value (datetime.date)\n",
        "    '''\n",
        "    return datetime.strptime(x.strftime('%Y%m%d'), '%Y%m%d')\n",
        "\n",
        "\n",
        "y_pred_future = sc_predict.inverse_transform(predictions_future)\n",
        "y_pred_train = sc_predict.inverse_transform(predictions_train)\n",
        "\n",
        "PREDICTIONS_FUTURE = pd.DataFrame(y_pred_future, columns=['Close']).set_index(pd.Series(datelist_future))\n",
        "PREDICTION_TRAIN = pd.DataFrame(y_pred_train, columns=['Close']).set_index(pd.Series(datelist_train[2 * n_past + n_future -1:]))\n",
        "\n",
        "# Convert <datetime.date> to <Timestamp> for PREDCITION_TRAIN\n",
        "PREDICTION_TRAIN.index = PREDICTION_TRAIN.index.to_series().apply(datetime_to_timestamp)\n",
        "PREDICTIONS_FUTURE\n",
        "#PREDICTION_TRAIN.head(3)"
      ]
    },
    {
      "cell_type": "markdown",
      "metadata": {
        "id": "e4BJeb917y3C"
      },
      "source": [
        "<h3>Step #6. Visualize the Predictions</h3>"
      ]
    },
    {
      "cell_type": "code",
      "execution_count": null,
      "metadata": {
        "colab": {
          "base_uri": "https://localhost:8080/",
          "height": 424
        },
        "id": "l5jtIeZ_--xV",
        "outputId": "5ab689a4-4475-40e0-b516-6de98a79fe45"
      },
      "outputs": [
        {
          "output_type": "execute_result",
          "data": {
            "text/plain": [
              "            Close    Adj Close      Volume\n",
              "0       49.982655    49.982655  44871361.0\n",
              "1       53.952770    53.952770  22942874.0\n",
              "2       54.495735    54.495735  18342897.0\n",
              "3       52.239197    52.239197  15319808.0\n",
              "4       52.802086    52.802086   9232276.0\n",
              "...           ...          ...         ...\n",
              "4489  2157.310059  2157.310059   2163500.0\n",
              "4490  2240.300049  2240.300049   1950500.0\n",
              "4491  2240.679932  2240.679932   1196100.0\n",
              "4492  2253.689941  2253.689941   1235500.0\n",
              "4493  2370.760010  2370.760010   1954700.0\n",
              "\n",
              "[4494 rows x 3 columns]"
            ],
            "text/html": [
              "\n",
              "  <div id=\"df-638320cd-7cba-47ee-baef-134ece42aaf1\">\n",
              "    <div class=\"colab-df-container\">\n",
              "      <div>\n",
              "<style scoped>\n",
              "    .dataframe tbody tr th:only-of-type {\n",
              "        vertical-align: middle;\n",
              "    }\n",
              "\n",
              "    .dataframe tbody tr th {\n",
              "        vertical-align: top;\n",
              "    }\n",
              "\n",
              "    .dataframe thead th {\n",
              "        text-align: right;\n",
              "    }\n",
              "</style>\n",
              "<table border=\"1\" class=\"dataframe\">\n",
              "  <thead>\n",
              "    <tr style=\"text-align: right;\">\n",
              "      <th></th>\n",
              "      <th>Close</th>\n",
              "      <th>Adj Close</th>\n",
              "      <th>Volume</th>\n",
              "    </tr>\n",
              "  </thead>\n",
              "  <tbody>\n",
              "    <tr>\n",
              "      <th>0</th>\n",
              "      <td>49.982655</td>\n",
              "      <td>49.982655</td>\n",
              "      <td>44871361.0</td>\n",
              "    </tr>\n",
              "    <tr>\n",
              "      <th>1</th>\n",
              "      <td>53.952770</td>\n",
              "      <td>53.952770</td>\n",
              "      <td>22942874.0</td>\n",
              "    </tr>\n",
              "    <tr>\n",
              "      <th>2</th>\n",
              "      <td>54.495735</td>\n",
              "      <td>54.495735</td>\n",
              "      <td>18342897.0</td>\n",
              "    </tr>\n",
              "    <tr>\n",
              "      <th>3</th>\n",
              "      <td>52.239197</td>\n",
              "      <td>52.239197</td>\n",
              "      <td>15319808.0</td>\n",
              "    </tr>\n",
              "    <tr>\n",
              "      <th>4</th>\n",
              "      <td>52.802086</td>\n",
              "      <td>52.802086</td>\n",
              "      <td>9232276.0</td>\n",
              "    </tr>\n",
              "    <tr>\n",
              "      <th>...</th>\n",
              "      <td>...</td>\n",
              "      <td>...</td>\n",
              "      <td>...</td>\n",
              "    </tr>\n",
              "    <tr>\n",
              "      <th>4489</th>\n",
              "      <td>2157.310059</td>\n",
              "      <td>2157.310059</td>\n",
              "      <td>2163500.0</td>\n",
              "    </tr>\n",
              "    <tr>\n",
              "      <th>4490</th>\n",
              "      <td>2240.300049</td>\n",
              "      <td>2240.300049</td>\n",
              "      <td>1950500.0</td>\n",
              "    </tr>\n",
              "    <tr>\n",
              "      <th>4491</th>\n",
              "      <td>2240.679932</td>\n",
              "      <td>2240.679932</td>\n",
              "      <td>1196100.0</td>\n",
              "    </tr>\n",
              "    <tr>\n",
              "      <th>4492</th>\n",
              "      <td>2253.689941</td>\n",
              "      <td>2253.689941</td>\n",
              "      <td>1235500.0</td>\n",
              "    </tr>\n",
              "    <tr>\n",
              "      <th>4493</th>\n",
              "      <td>2370.760010</td>\n",
              "      <td>2370.760010</td>\n",
              "      <td>1954700.0</td>\n",
              "    </tr>\n",
              "  </tbody>\n",
              "</table>\n",
              "<p>4494 rows × 3 columns</p>\n",
              "</div>\n",
              "      <button class=\"colab-df-convert\" onclick=\"convertToInteractive('df-638320cd-7cba-47ee-baef-134ece42aaf1')\"\n",
              "              title=\"Convert this dataframe to an interactive table.\"\n",
              "              style=\"display:none;\">\n",
              "        \n",
              "  <svg xmlns=\"http://www.w3.org/2000/svg\" height=\"24px\"viewBox=\"0 0 24 24\"\n",
              "       width=\"24px\">\n",
              "    <path d=\"M0 0h24v24H0V0z\" fill=\"none\"/>\n",
              "    <path d=\"M18.56 5.44l.94 2.06.94-2.06 2.06-.94-2.06-.94-.94-2.06-.94 2.06-2.06.94zm-11 1L8.5 8.5l.94-2.06 2.06-.94-2.06-.94L8.5 2.5l-.94 2.06-2.06.94zm10 10l.94 2.06.94-2.06 2.06-.94-2.06-.94-.94-2.06-.94 2.06-2.06.94z\"/><path d=\"M17.41 7.96l-1.37-1.37c-.4-.4-.92-.59-1.43-.59-.52 0-1.04.2-1.43.59L10.3 9.45l-7.72 7.72c-.78.78-.78 2.05 0 2.83L4 21.41c.39.39.9.59 1.41.59.51 0 1.02-.2 1.41-.59l7.78-7.78 2.81-2.81c.8-.78.8-2.07 0-2.86zM5.41 20L4 18.59l7.72-7.72 1.47 1.35L5.41 20z\"/>\n",
              "  </svg>\n",
              "      </button>\n",
              "      \n",
              "  <style>\n",
              "    .colab-df-container {\n",
              "      display:flex;\n",
              "      flex-wrap:wrap;\n",
              "      gap: 12px;\n",
              "    }\n",
              "\n",
              "    .colab-df-convert {\n",
              "      background-color: #E8F0FE;\n",
              "      border: none;\n",
              "      border-radius: 50%;\n",
              "      cursor: pointer;\n",
              "      display: none;\n",
              "      fill: #1967D2;\n",
              "      height: 32px;\n",
              "      padding: 0 0 0 0;\n",
              "      width: 32px;\n",
              "    }\n",
              "\n",
              "    .colab-df-convert:hover {\n",
              "      background-color: #E2EBFA;\n",
              "      box-shadow: 0px 1px 2px rgba(60, 64, 67, 0.3), 0px 1px 3px 1px rgba(60, 64, 67, 0.15);\n",
              "      fill: #174EA6;\n",
              "    }\n",
              "\n",
              "    [theme=dark] .colab-df-convert {\n",
              "      background-color: #3B4455;\n",
              "      fill: #D2E3FC;\n",
              "    }\n",
              "\n",
              "    [theme=dark] .colab-df-convert:hover {\n",
              "      background-color: #434B5C;\n",
              "      box-shadow: 0px 1px 3px 1px rgba(0, 0, 0, 0.15);\n",
              "      filter: drop-shadow(0px 1px 2px rgba(0, 0, 0, 0.3));\n",
              "      fill: #FFFFFF;\n",
              "    }\n",
              "  </style>\n",
              "\n",
              "      <script>\n",
              "        const buttonEl =\n",
              "          document.querySelector('#df-638320cd-7cba-47ee-baef-134ece42aaf1 button.colab-df-convert');\n",
              "        buttonEl.style.display =\n",
              "          google.colab.kernel.accessAllowed ? 'block' : 'none';\n",
              "\n",
              "        async function convertToInteractive(key) {\n",
              "          const element = document.querySelector('#df-638320cd-7cba-47ee-baef-134ece42aaf1');\n",
              "          const dataTable =\n",
              "            await google.colab.kernel.invokeFunction('convertToInteractive',\n",
              "                                                     [key], {});\n",
              "          if (!dataTable) return;\n",
              "\n",
              "          const docLinkHtml = 'Like what you see? Visit the ' +\n",
              "            '<a target=\"_blank\" href=https://colab.research.google.com/notebooks/data_table.ipynb>data table notebook</a>'\n",
              "            + ' to learn more about interactive tables.';\n",
              "          element.innerHTML = '';\n",
              "          dataTable['output_type'] = 'display_data';\n",
              "          await google.colab.output.renderOutput(dataTable, element);\n",
              "          const docLink = document.createElement('div');\n",
              "          docLink.innerHTML = docLinkHtml;\n",
              "          element.appendChild(docLink);\n",
              "        }\n",
              "      </script>\n",
              "    </div>\n",
              "  </div>\n",
              "  "
            ]
          },
          "metadata": {},
          "execution_count": 21
        }
      ],
      "source": [
        "dataset_train"
      ]
    },
    {
      "cell_type": "code",
      "execution_count": 17,
      "metadata": {
        "colab": {
          "base_uri": "https://localhost:8080/",
          "height": 524
        },
        "id": "WhoFSdh87y3C",
        "outputId": "7ef97fae-0f72-420a-ec96-3cc9779b3684"
      },
      "outputs": [
        {
          "output_type": "stream",
          "name": "stderr",
          "text": [
            "findfont: Font family ['Arial'] not found. Falling back to DejaVu Sans.\n",
            "findfont: Font family ['Arial'] not found. Falling back to DejaVu Sans.\n"
          ]
        },
        {
          "output_type": "stream",
          "name": "stdout",
          "text": [
            "<class 'pandas.core.frame.DataFrame'>\n",
            "DatetimeIndex: 60 entries, 2016-12-07 to 2017-02-04\n",
            "Data columns (total 1 columns):\n",
            " #   Column  Non-Null Count  Dtype  \n",
            "---  ------  --------------  -----  \n",
            " 0   Close   60 non-null     float32\n",
            "dtypes: float32(1)\n",
            "memory usage: 720.0 bytes\n"
          ]
        },
        {
          "output_type": "display_data",
          "data": {
            "text/plain": [
              "<Figure size 1008x360 with 1 Axes>"
            ],
            "image/png": "[encoded data removed]"
          },
          "metadata": {
            "needs_background": "light"
          }
        }
      ],
      "source": [
        "# Set plot size \n",
        "from pylab import rcParams\n",
        "rcParams['figure.figsize'] = 14, 5\n",
        "\n",
        "\n",
        "PREDICTIONS_FUTURE.info()\n",
        "\n",
        "# Plot parameters\n",
        "START_DATE_FOR_PLOTTING = '2014-01-01'\n",
        "\n",
        "plt.plot(PREDICTIONS_FUTURE.index, PREDICTIONS_FUTURE['Close'], color='r', label='Predicted Stock Price')\n",
        "#plt.plot(PREDICTION_TRAIN.loc[START_DATE_FOR_PLOTTING:].index, PREDICTION_TRAIN.loc[START_DATE_FOR_PLOTTING:]['Close'], color='orange', label='Training predictions')\n",
        "#plt.plot(dataset_train.loc[START_DATE_FOR_PLOTTING:]['Date'], dataset_train.loc[START_DATE_FOR_PLOTTING:]['Open'], color='b', label='Actual Stock Price')\n",
        "\n",
        "plt.axvline(x = min(PREDICTIONS_FUTURE.index), color='green', linewidth=2, linestyle='--')\n",
        "\n",
        "plt.grid(which='major', color='#cccccc', alpha=0.5)\n",
        "\n",
        "plt.legend(shadow=True)\n",
        "plt.title('Predictions and Actual Stock Prices', family='Arial', fontsize=12)\n",
        "plt.xlabel('Timeline', family='Arial', fontsize=10)\n",
        "plt.ylabel('Stock Price Value', family='Arial', fontsize=10)\n",
        "\n",
        "plt.show()"
      ]
    },
    {
      "cell_type": "code",
      "execution_count": 18,
      "metadata": {
        "colab": {
          "base_uri": "https://localhost:8080/",
          "height": 514
        },
        "id": "YlVMV5P0BSk7",
        "outputId": "9e1fe391-0ba8-4d4f-ec76-a983cf869b82"
      },
      "outputs": [
        {
          "output_type": "execute_result",
          "data": {
            "text/plain": [
              "<matplotlib.axes._subplots.AxesSubplot at 0x7f31da950b50>"
            ]
          },
          "metadata": {},
          "execution_count": 18
        },
        {
          "output_type": "display_data",
          "data": {
            "text/plain": [
              "<Figure size 1152x576 with 1 Axes>"
            ],
            "image/png": "[encoded data removed]"
          },
          "metadata": {
            "needs_background": "light"
          }
        }
      ],
      "source": [
        "\n",
        "df.plot.line(x='Date', y='Close', figsize=(16,8))"
      ]
    },
    {
      "cell_type": "code",
      "execution_count": null,
      "metadata": {
        "colab": {
          "background_save": true
        },
        "id": "zdoVSHC57y3D"
      },
      "outputs": [],
      "source": [
        ""
      ]
    },
    {
      "cell_type": "code",
      "execution_count": null,
      "metadata": {
        "colab": {
          "background_save": true
        },
        "id": "My4rF91g7y3D"
      },
      "outputs": [],
      "source": [
        ""
      ]
    }
  ],
  "metadata": {
    "colab": {
      "collapsed_sections": [],
      "name": "Stockpred_updated.ipynb",
      "provenance": [],
      "include_colab_link": true
    },
    "kernelspec": {
      "display_name": "Python 3",
      "language": "python",
      "name": "python3"
    },
    "language_info": {
      "codemirror_mode": {
        "name": "ipython",
        "version": 3
      },
      "file_extension": ".py",
      "mimetype": "text/x-python",
      "name": "python",
      "nbconvert_exporter": "python",
      "pygments_lexer": "ipython3",
      "version": "3.7.6"
    }
  },
  "nbformat": 4,
  "nbformat_minor": 0
}